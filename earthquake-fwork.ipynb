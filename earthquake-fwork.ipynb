{
 "cells": [
  {
   "cell_type": "markdown",
   "metadata": {},
   "source": [
    "### Install Required Libraries"
   ]
  },
  {
   "cell_type": "code",
   "execution_count": 1,
   "metadata": {},
   "outputs": [
    {
     "name": "stdout",
     "output_type": "stream",
     "text": [
      "Requirement already satisfied: folium in /Library/Frameworks/Python.framework/Versions/3.13/lib/python3.13/site-packages (0.19.5)\n",
      "Requirement already satisfied: torch in /Library/Frameworks/Python.framework/Versions/3.13/lib/python3.13/site-packages (2.6.0)\n",
      "Requirement already satisfied: scikit-learn in /Library/Frameworks/Python.framework/Versions/3.13/lib/python3.13/site-packages (1.6.1)\n",
      "Requirement already satisfied: matplotlib in /Library/Frameworks/Python.framework/Versions/3.13/lib/python3.13/site-packages (3.10.1)\n",
      "Requirement already satisfied: streamlit in /Library/Frameworks/Python.framework/Versions/3.13/lib/python3.13/site-packages (1.44.1)\n",
      "Requirement already satisfied: joblib in /Library/Frameworks/Python.framework/Versions/3.13/lib/python3.13/site-packages (1.4.2)\n",
      "Requirement already satisfied: branca>=0.6.0 in /Library/Frameworks/Python.framework/Versions/3.13/lib/python3.13/site-packages (from folium) (0.8.1)\n",
      "Requirement already satisfied: jinja2>=2.9 in /Library/Frameworks/Python.framework/Versions/3.13/lib/python3.13/site-packages (from folium) (3.1.6)\n",
      "Requirement already satisfied: numpy in /Library/Frameworks/Python.framework/Versions/3.13/lib/python3.13/site-packages (from folium) (2.2.4)\n",
      "Requirement already satisfied: requests in /Library/Frameworks/Python.framework/Versions/3.13/lib/python3.13/site-packages (from folium) (2.32.3)\n",
      "Requirement already satisfied: xyzservices in /Library/Frameworks/Python.framework/Versions/3.13/lib/python3.13/site-packages (from folium) (2025.1.0)\n",
      "Requirement already satisfied: filelock in /Library/Frameworks/Python.framework/Versions/3.13/lib/python3.13/site-packages (from torch) (3.18.0)\n",
      "Requirement already satisfied: typing-extensions>=4.10.0 in /Library/Frameworks/Python.framework/Versions/3.13/lib/python3.13/site-packages (from torch) (4.13.0)\n",
      "Requirement already satisfied: networkx in /Library/Frameworks/Python.framework/Versions/3.13/lib/python3.13/site-packages (from torch) (3.4.2)\n",
      "Requirement already satisfied: fsspec in /Library/Frameworks/Python.framework/Versions/3.13/lib/python3.13/site-packages (from torch) (2024.12.0)\n",
      "Requirement already satisfied: setuptools in /Library/Frameworks/Python.framework/Versions/3.13/lib/python3.13/site-packages (from torch) (78.1.0)\n",
      "Requirement already satisfied: sympy==1.13.1 in /Library/Frameworks/Python.framework/Versions/3.13/lib/python3.13/site-packages (from torch) (1.13.1)\n",
      "Requirement already satisfied: mpmath<1.4,>=1.1.0 in /Library/Frameworks/Python.framework/Versions/3.13/lib/python3.13/site-packages (from sympy==1.13.1->torch) (1.3.0)\n",
      "Requirement already satisfied: scipy>=1.6.0 in /Library/Frameworks/Python.framework/Versions/3.13/lib/python3.13/site-packages (from scikit-learn) (1.15.2)\n",
      "Requirement already satisfied: threadpoolctl>=3.1.0 in /Library/Frameworks/Python.framework/Versions/3.13/lib/python3.13/site-packages (from scikit-learn) (3.6.0)\n",
      "Requirement already satisfied: contourpy>=1.0.1 in /Library/Frameworks/Python.framework/Versions/3.13/lib/python3.13/site-packages (from matplotlib) (1.3.1)\n",
      "Requirement already satisfied: cycler>=0.10 in /Library/Frameworks/Python.framework/Versions/3.13/lib/python3.13/site-packages (from matplotlib) (0.12.1)\n",
      "Requirement already satisfied: fonttools>=4.22.0 in /Library/Frameworks/Python.framework/Versions/3.13/lib/python3.13/site-packages (from matplotlib) (4.57.0)\n",
      "Requirement already satisfied: kiwisolver>=1.3.1 in /Library/Frameworks/Python.framework/Versions/3.13/lib/python3.13/site-packages (from matplotlib) (1.4.8)\n",
      "Requirement already satisfied: packaging>=20.0 in /Users/syukrifadzil/Library/Python/3.13/lib/python/site-packages (from matplotlib) (24.2)\n",
      "Requirement already satisfied: pillow>=8 in /Library/Frameworks/Python.framework/Versions/3.13/lib/python3.13/site-packages (from matplotlib) (11.1.0)\n",
      "Requirement already satisfied: pyparsing>=2.3.1 in /Library/Frameworks/Python.framework/Versions/3.13/lib/python3.13/site-packages (from matplotlib) (3.2.3)\n",
      "Requirement already satisfied: python-dateutil>=2.7 in /Users/syukrifadzil/Library/Python/3.13/lib/python/site-packages (from matplotlib) (2.9.0.post0)\n",
      "Requirement already satisfied: altair<6,>=4.0 in /Library/Frameworks/Python.framework/Versions/3.13/lib/python3.13/site-packages (from streamlit) (5.5.0)\n",
      "Requirement already satisfied: blinker<2,>=1.0.0 in /Library/Frameworks/Python.framework/Versions/3.13/lib/python3.13/site-packages (from streamlit) (1.9.0)\n",
      "Requirement already satisfied: cachetools<6,>=4.0 in /Library/Frameworks/Python.framework/Versions/3.13/lib/python3.13/site-packages (from streamlit) (5.5.2)\n",
      "Requirement already satisfied: click<9,>=7.0 in /Library/Frameworks/Python.framework/Versions/3.13/lib/python3.13/site-packages (from streamlit) (8.1.8)\n",
      "Requirement already satisfied: pandas<3,>=1.4.0 in /Library/Frameworks/Python.framework/Versions/3.13/lib/python3.13/site-packages (from streamlit) (2.2.3)\n",
      "Requirement already satisfied: protobuf<6,>=3.20 in /Library/Frameworks/Python.framework/Versions/3.13/lib/python3.13/site-packages (from streamlit) (5.29.4)\n",
      "Requirement already satisfied: pyarrow>=7.0 in /Library/Frameworks/Python.framework/Versions/3.13/lib/python3.13/site-packages (from streamlit) (19.0.1)\n",
      "Requirement already satisfied: tenacity<10,>=8.1.0 in /Library/Frameworks/Python.framework/Versions/3.13/lib/python3.13/site-packages (from streamlit) (9.1.2)\n",
      "Requirement already satisfied: toml<2,>=0.10.1 in /Library/Frameworks/Python.framework/Versions/3.13/lib/python3.13/site-packages (from streamlit) (0.10.2)\n",
      "Requirement already satisfied: gitpython!=3.1.19,<4,>=3.0.7 in /Library/Frameworks/Python.framework/Versions/3.13/lib/python3.13/site-packages (from streamlit) (3.1.44)\n",
      "Requirement already satisfied: pydeck<1,>=0.8.0b4 in /Library/Frameworks/Python.framework/Versions/3.13/lib/python3.13/site-packages (from streamlit) (0.9.1)\n",
      "Requirement already satisfied: tornado<7,>=6.0.3 in /Users/syukrifadzil/Library/Python/3.13/lib/python/site-packages (from streamlit) (6.4.2)\n",
      "Requirement already satisfied: jsonschema>=3.0 in /Library/Frameworks/Python.framework/Versions/3.13/lib/python3.13/site-packages (from altair<6,>=4.0->streamlit) (4.23.0)\n",
      "Requirement already satisfied: narwhals>=1.14.2 in /Library/Frameworks/Python.framework/Versions/3.13/lib/python3.13/site-packages (from altair<6,>=4.0->streamlit) (1.33.0)\n",
      "Requirement already satisfied: gitdb<5,>=4.0.1 in /Library/Frameworks/Python.framework/Versions/3.13/lib/python3.13/site-packages (from gitpython!=3.1.19,<4,>=3.0.7->streamlit) (4.0.12)\n",
      "Requirement already satisfied: MarkupSafe>=2.0 in /Library/Frameworks/Python.framework/Versions/3.13/lib/python3.13/site-packages (from jinja2>=2.9->folium) (3.0.2)\n",
      "Requirement already satisfied: pytz>=2020.1 in /Library/Frameworks/Python.framework/Versions/3.13/lib/python3.13/site-packages (from pandas<3,>=1.4.0->streamlit) (2025.2)\n",
      "Requirement already satisfied: tzdata>=2022.7 in /Library/Frameworks/Python.framework/Versions/3.13/lib/python3.13/site-packages (from pandas<3,>=1.4.0->streamlit) (2025.2)\n",
      "Requirement already satisfied: six>=1.5 in /Users/syukrifadzil/Library/Python/3.13/lib/python/site-packages (from python-dateutil>=2.7->matplotlib) (1.17.0)\n",
      "Requirement already satisfied: charset-normalizer<4,>=2 in /Library/Frameworks/Python.framework/Versions/3.13/lib/python3.13/site-packages (from requests->folium) (3.4.1)\n",
      "Requirement already satisfied: idna<4,>=2.5 in /Library/Frameworks/Python.framework/Versions/3.13/lib/python3.13/site-packages (from requests->folium) (3.10)\n",
      "Requirement already satisfied: urllib3<3,>=1.21.1 in /Library/Frameworks/Python.framework/Versions/3.13/lib/python3.13/site-packages (from requests->folium) (2.3.0)\n",
      "Requirement already satisfied: certifi>=2017.4.17 in /Library/Frameworks/Python.framework/Versions/3.13/lib/python3.13/site-packages (from requests->folium) (2025.1.31)\n",
      "Requirement already satisfied: smmap<6,>=3.0.1 in /Library/Frameworks/Python.framework/Versions/3.13/lib/python3.13/site-packages (from gitdb<5,>=4.0.1->gitpython!=3.1.19,<4,>=3.0.7->streamlit) (5.0.2)\n",
      "Requirement already satisfied: attrs>=22.2.0 in /Library/Frameworks/Python.framework/Versions/3.13/lib/python3.13/site-packages (from jsonschema>=3.0->altair<6,>=4.0->streamlit) (25.3.0)\n",
      "Requirement already satisfied: jsonschema-specifications>=2023.03.6 in /Library/Frameworks/Python.framework/Versions/3.13/lib/python3.13/site-packages (from jsonschema>=3.0->altair<6,>=4.0->streamlit) (2024.10.1)\n",
      "Requirement already satisfied: referencing>=0.28.4 in /Library/Frameworks/Python.framework/Versions/3.13/lib/python3.13/site-packages (from jsonschema>=3.0->altair<6,>=4.0->streamlit) (0.36.2)\n",
      "Requirement already satisfied: rpds-py>=0.7.1 in /Library/Frameworks/Python.framework/Versions/3.13/lib/python3.13/site-packages (from jsonschema>=3.0->altair<6,>=4.0->streamlit) (0.24.0)\n"
     ]
    }
   ],
   "source": [
    "!pip install folium torch scikit-learn matplotlib streamlit joblib"
   ]
  },
  {
   "cell_type": "markdown",
   "metadata": {},
   "source": [
    "### Import Libraries"
   ]
  },
  {
   "cell_type": "code",
   "execution_count": 2,
   "metadata": {},
   "outputs": [],
   "source": [
    "import pandas as pd\n",
    "import numpy as np\n",
    "import requests\n",
    "import folium\n",
    "from folium.plugins import HeatMap\n",
    "import matplotlib.pyplot as plt\n",
    "import torch\n",
    "import torch.nn as nn\n",
    "from sklearn.preprocessing import MinMaxScaler\n",
    "from sklearn.ensemble import RandomForestClassifier\n",
    "from sklearn.svm import SVC\n",
    "from sklearn.linear_model import LogisticRegression\n",
    "from sklearn.model_selection import train_test_split\n",
    "import joblib\n",
    "import time\n",
    "import streamlit.components.v1 as components"
   ]
  },
  {
   "cell_type": "markdown",
   "metadata": {},
   "source": [
    "### Fetch Earthquake Data from USGS"
   ]
  },
  {
   "cell_type": "code",
   "execution_count": 3,
   "metadata": {},
   "outputs": [
    {
     "data": {
      "text/html": [
       "<div>\n",
       "<style scoped>\n",
       "    .dataframe tbody tr th:only-of-type {\n",
       "        vertical-align: middle;\n",
       "    }\n",
       "\n",
       "    .dataframe tbody tr th {\n",
       "        vertical-align: top;\n",
       "    }\n",
       "\n",
       "    .dataframe thead th {\n",
       "        text-align: right;\n",
       "    }\n",
       "</style>\n",
       "<table border=\"1\" class=\"dataframe\">\n",
       "  <thead>\n",
       "    <tr style=\"text-align: right;\">\n",
       "      <th></th>\n",
       "      <th>place</th>\n",
       "      <th>magnitude</th>\n",
       "      <th>time</th>\n",
       "      <th>longitude</th>\n",
       "      <th>latitude</th>\n",
       "      <th>depth</th>\n",
       "    </tr>\n",
       "  </thead>\n",
       "  <tbody>\n",
       "    <tr>\n",
       "      <th>0</th>\n",
       "      <td>60 km S of Kingston, Nevada</td>\n",
       "      <td>1.70</td>\n",
       "      <td>2024-12-30 23:48:43.692</td>\n",
       "      <td>-117.093600</td>\n",
       "      <td>38.662100</td>\n",
       "      <td>8.30</td>\n",
       "    </tr>\n",
       "    <tr>\n",
       "      <th>1</th>\n",
       "      <td>3 km ENE of The Geysers, CA</td>\n",
       "      <td>1.04</td>\n",
       "      <td>2024-12-30 23:48:41.250</td>\n",
       "      <td>-122.733665</td>\n",
       "      <td>38.792000</td>\n",
       "      <td>1.76</td>\n",
       "    </tr>\n",
       "    <tr>\n",
       "      <th>2</th>\n",
       "      <td>51 km SSE of Nelchina, Alaska</td>\n",
       "      <td>1.50</td>\n",
       "      <td>2024-12-30 23:39:37.619</td>\n",
       "      <td>-146.250200</td>\n",
       "      <td>61.605100</td>\n",
       "      <td>24.10</td>\n",
       "    </tr>\n",
       "    <tr>\n",
       "      <th>3</th>\n",
       "      <td>57 km WSW of Adak, Alaska</td>\n",
       "      <td>1.80</td>\n",
       "      <td>2024-12-30 23:37:54.324</td>\n",
       "      <td>-177.329000</td>\n",
       "      <td>51.589300</td>\n",
       "      <td>18.80</td>\n",
       "    </tr>\n",
       "    <tr>\n",
       "      <th>4</th>\n",
       "      <td>6 km WNW of Cobb, CA</td>\n",
       "      <td>0.34</td>\n",
       "      <td>2024-12-30 23:27:31.700</td>\n",
       "      <td>-122.788667</td>\n",
       "      <td>38.823167</td>\n",
       "      <td>1.61</td>\n",
       "    </tr>\n",
       "  </tbody>\n",
       "</table>\n",
       "</div>"
      ],
      "text/plain": [
       "                           place  magnitude                    time  \\\n",
       "0    60 km S of Kingston, Nevada       1.70 2024-12-30 23:48:43.692   \n",
       "1    3 km ENE of The Geysers, CA       1.04 2024-12-30 23:48:41.250   \n",
       "2  51 km SSE of Nelchina, Alaska       1.50 2024-12-30 23:39:37.619   \n",
       "3      57 km WSW of Adak, Alaska       1.80 2024-12-30 23:37:54.324   \n",
       "4           6 km WNW of Cobb, CA       0.34 2024-12-30 23:27:31.700   \n",
       "\n",
       "    longitude   latitude  depth  \n",
       "0 -117.093600  38.662100   8.30  \n",
       "1 -122.733665  38.792000   1.76  \n",
       "2 -146.250200  61.605100  24.10  \n",
       "3 -177.329000  51.589300  18.80  \n",
       "4 -122.788667  38.823167   1.61  "
      ]
     },
     "execution_count": 3,
     "metadata": {},
     "output_type": "execute_result"
    }
   ],
   "source": [
    "def get_usgs_quake_data(start_time=\"2024-12-01\", end_time=\"2024-12-31\", min_magnitude=0, max_magnitude=2):\n",
    "    url = \"https://earthquake.usgs.gov/fdsnws/event/1/query\"\n",
    "    params = {\n",
    "        \"format\": \"geojson\",\n",
    "        \"starttime\": start_time,\n",
    "        \"endtime\": end_time,\n",
    "        \"minmagnitude\": min_magnitude,\n",
    "        \"maxmagnitude\": max_magnitude,\n",
    "    }\n",
    "\n",
    "    response = requests.get(url, params=params)\n",
    "    data = response.json()\n",
    "    \n",
    "    records = []\n",
    "    for feature in data[\"features\"]:\n",
    "        props = feature[\"properties\"]\n",
    "        coords = feature[\"geometry\"][\"coordinates\"]\n",
    "        records.append({\n",
    "            \"place\": props[\"place\"],\n",
    "            \"magnitude\": props[\"mag\"],\n",
    "            \"time\": pd.to_datetime(props[\"time\"], unit=\"ms\"),\n",
    "            \"longitude\": coords[0],\n",
    "            \"latitude\": coords[1],\n",
    "            \"depth\": coords[2],\n",
    "        })\n",
    "        \n",
    "    return pd.DataFrame(records)\n",
    "\n",
    "df_quakes = get_usgs_quake_data()\n",
    "df_quakes.head()"
   ]
  },
  {
   "cell_type": "markdown",
   "metadata": {},
   "source": [
    "### Geospatial Mapping"
   ]
  },
  {
   "cell_type": "code",
   "execution_count": 4,
   "metadata": {},
   "outputs": [
    {
     "name": "stderr",
     "output_type": "stream",
     "text": [
      "2025-04-06 01:40:21.406 WARNING streamlit.runtime.scriptrunner_utils.script_run_context: Thread 'MainThread': missing ScriptRunContext! This warning can be ignored when running in bare mode.\n",
      "2025-04-06 01:40:21.486 \n",
      "  \u001b[33m\u001b[1mWarning:\u001b[0m to view this Streamlit app on a browser, run it with the following\n",
      "  command:\n",
      "\n",
      "    streamlit run /Users/syukrifadzil/Library/Python/3.13/lib/python/site-packages/ipykernel_launcher.py [ARGUMENTS]\n",
      "2025-04-06 01:40:21.487 Thread 'MainThread': missing ScriptRunContext! This warning can be ignored when running in bare mode.\n"
     ]
    },
    {
     "data": {
      "text/plain": [
       "DeltaGenerator()"
      ]
     },
     "execution_count": 4,
     "metadata": {},
     "output_type": "execute_result"
    }
   ],
   "source": [
    "def plot_quakes_on_map(df):\n",
    "    m = folium.Map(location=[df.latitude.mean(), df.longitude.mean()], zoom_start=5)\n",
    "    for _, row in df.iterrows():\n",
    "        folium.CircleMarker(\n",
    "            location=[row[\"latitude\"], row[\"longitude\"]],\n",
    "            radius=row[\"magnitude\"] * 2,\n",
    "            popup=f\"{row['place']} | Mag: {row['magnitude']:.1f}\",\n",
    "            color=\"red\" if row[\"magnitude\"] > 1.5 else \"orange\",\n",
    "            fill=True,\n",
    "            fill_opacity=0.6\n",
    "        ).add_to(m)\n",
    "    return m\n",
    "\n",
    "quake_map = plot_quakes_on_map(df_quakes)\n",
    "quake_map.save(\"quake_map.html\")\n",
    "components.html(open(\"quake_map.html\").read(), height=500)"
   ]
  },
  {
   "cell_type": "markdown",
   "metadata": {},
   "source": [
    "### Seismic Heatmap"
   ]
  },
  {
   "cell_type": "code",
   "execution_count": 5,
   "metadata": {},
   "outputs": [
    {
     "name": "stderr",
     "output_type": "stream",
     "text": [
      "2025-04-06 02:04:15.852 Thread 'MainThread': missing ScriptRunContext! This warning can be ignored when running in bare mode.\n",
      "2025-04-06 02:04:15.855 Thread 'MainThread': missing ScriptRunContext! This warning can be ignored when running in bare mode.\n"
     ]
    },
    {
     "data": {
      "text/plain": [
       "DeltaGenerator()"
      ]
     },
     "execution_count": 5,
     "metadata": {},
     "output_type": "execute_result"
    }
   ],
   "source": [
    "def plot_quake_heatmap(df):\n",
    "    m = folium.Map(location=[df.latitude.mean(), df.longitude.mean()], zoom_start=5)\n",
    "    heat_data = [[row['latitude'], row['longitude'], row['magnitude']] for index, row in df.iterrows()]\n",
    "    HeatMap(heat_data).add_to(m)\n",
    "    return m\n",
    "\n",
    "heat_map = plot_quake_heatmap(df_quakes)\n",
    "heat_map.save(\"heat_map.html\")\n",
    "components.html(open(\"heat_map.html\").read(), height=500)"
   ]
  },
  {
   "cell_type": "markdown",
   "metadata": {},
   "source": [
    "### Simulate Seismic Data Sensor"
   ]
  },
  {
   "cell_type": "code",
   "execution_count": 6,
   "metadata": {},
   "outputs": [],
   "source": [
    "df = pd.DataFrame({\n",
    "    'accel_x': np.random.rand(1000),\n",
    "    'accel_y': np.random.rand(1000),\n",
    "    'accel_z': np.random.rand(1000),\n",
    "    'precursor_label': np.random.choice([0, 1], size=1000)\n",
    "})\n",
    "\n",
    "features = ['accel_x', 'accel_y', 'accel_z']\n",
    "X = df[features].values\n",
    "y = df['precursor_label'].values"
   ]
  },
  {
   "cell_type": "markdown",
   "metadata": {},
   "source": [
    "### Train Classic ML Model"
   ]
  },
  {
   "cell_type": "code",
   "execution_count": 7,
   "metadata": {},
   "outputs": [
    {
     "name": "stdout",
     "output_type": "stream",
     "text": [
      "Random Forest Accuracy: 0.455\n",
      "SVM Accuracy: 0.49\n",
      "Logistic Regression Accuracy: 0.495\n"
     ]
    }
   ],
   "source": [
    "X_train, X_test, y_train, y_test = train_test_split(X, y, test_size=0.2, random_state=42)\n",
    "\n",
    "rf_model = RandomForestClassifier(n_estimators=100)\n",
    "rf_model.fit(X_train, y_train)\n",
    "\n",
    "svm_model = SVC(kernel='linear')\n",
    "svm_model.fit(X_train, y_train)\n",
    "\n",
    "logreg_model = LogisticRegression()\n",
    "logreg_model.fit(X_train, y_train)\n",
    "\n",
    "print(\"Random Forest Accuracy:\", rf_model.score(X_test, y_test))\n",
    "print(\"SVM Accuracy:\", svm_model.score(X_test, y_test))\n",
    "print(\"Logistic Regression Accuracy:\", logreg_model.score(X_test, y_test))"
   ]
  },
  {
   "cell_type": "markdown",
   "metadata": {},
   "source": [
    "### Prepare Data for LSTM (PyTorch)"
   ]
  },
  {
   "cell_type": "code",
   "execution_count": 8,
   "metadata": {},
   "outputs": [],
   "source": [
    "scaler = MinMaxScaler()\n",
    "X_scaled = scaler.fit_transform(X)\n",
    "\n",
    "def create_sequence(data, labels, seq_length=50):\n",
    "    xs, ys = [], []\n",
    "    for i in range(len(data) - seq_length):\n",
    "        x_seq = data[i:i+seq_length]\n",
    "        y_seq = labels[i+seq_length]\n",
    "        xs.append(x_seq)\n",
    "        ys.append(y_seq)\n",
    "    return np.array(xs), np.array(ys)\n",
    "\n",
    "X_seq, y_seq = create_sequence(X_scaled, y)\n",
    "X_seq = torch.tensor(X_seq, dtype=torch.float32)\n",
    "y_seq = torch.tensor(y_seq, dtype=torch.float32)"
   ]
  },
  {
   "cell_type": "markdown",
   "metadata": {},
   "source": [
    "### Define and Train LSTM with PyTorch"
   ]
  },
  {
   "cell_type": "code",
   "execution_count": 9,
   "metadata": {},
   "outputs": [
    {
     "name": "stdout",
     "output_type": "stream",
     "text": [
      "Epoch 1/10, Loss: 0.693108\n",
      "Epoch 2/10, Loss: 0.693303\n",
      "Epoch 3/10, Loss: 0.693149\n",
      "Epoch 4/10, Loss: 0.693502\n",
      "Epoch 5/10, Loss: 0.693201\n",
      "Epoch 6/10, Loss: 0.692773\n",
      "Epoch 7/10, Loss: 0.693725\n",
      "Epoch 8/10, Loss: 0.693233\n",
      "Epoch 9/10, Loss: 0.693158\n",
      "Epoch 10/10, Loss: 0.692843\n"
     ]
    }
   ],
   "source": [
    "class EarthquakeLSTM(nn.Module):\n",
    "    def __init__(self, input_size=3, hidden_size=64, num_layers=1):\n",
    "        super(EarthquakeLSTM, self).__init__()\n",
    "        self.lstm = nn.LSTM(input_size, hidden_size, num_layers, batch_first=True)\n",
    "        self.dropout = nn.Dropout(0.3)\n",
    "        self.fc = nn.Linear(hidden_size, 1)\n",
    "        self.sigmoid = nn.Sigmoid()\n",
    "        \n",
    "    def forward(self, x):\n",
    "        out, _ = self.lstm(x)\n",
    "        out = self.dropout(out[:, -1, :])\n",
    "        out = self.fc(out)\n",
    "        return self.sigmoid(out)\n",
    "    \n",
    "model = EarthquakeLSTM()\n",
    "criterion = nn.BCELoss()\n",
    "optimizer = torch.optim.Adam(model.parameters(), lr=0.001)\n",
    "\n",
    "# Training loop\n",
    "epochs = 10\n",
    "for epoch in range(epochs):\n",
    "    model.train()\n",
    "    outputs = model(X_seq)\n",
    "    loss = criterion(outputs.squeeze(), y_seq)\n",
    "    optimizer.zero_grad()\n",
    "    loss.backward()\n",
    "    optimizer.step()\n",
    "    print(f\"Epoch {epoch+1}/{epochs}, Loss: {loss.item():4f}\")"
   ]
  },
  {
   "cell_type": "markdown",
   "metadata": {},
   "source": [
    "### Save Models"
   ]
  },
  {
   "cell_type": "code",
   "execution_count": 10,
   "metadata": {},
   "outputs": [
    {
     "data": {
      "text/plain": [
       "['scaler.pkl']"
      ]
     },
     "execution_count": 10,
     "metadata": {},
     "output_type": "execute_result"
    }
   ],
   "source": [
    "torch.save(model.state_dict(), \"lstm_quake_detector.pt\")\n",
    "joblib.dump(rf_model, \"rf_quake.pkl\")\n",
    "joblib.dump(svm_model, \"svm_quake.pkl\")\n",
    "joblib.dump(logreg_model, \"logreg_quake.pkl\")\n",
    "joblib.dump(scaler, \"scaler.pkl\")\n"
   ]
  },
  {
   "cell_type": "markdown",
   "metadata": {},
   "source": [
    "### Real-Time Prediction"
   ]
  },
  {
   "cell_type": "code",
   "execution_count": 13,
   "metadata": {},
   "outputs": [
    {
     "name": "stdout",
     "output_type": "stream",
     "text": [
      "Prediction: {'LSTM': False, 'Random Forest': True, 'SVM': False, 'Logistic Regression': False}\n"
     ]
    }
   ],
   "source": [
    "def generate_mock_data():\n",
    "    return {\n",
    "        \"accel_x\": np.random.rand(),\n",
    "        \"accel_y\": np.random.rand(),\n",
    "        \"accel_z\": np.random.rand(),\n",
    "    }\n",
    "    \n",
    "def predict_all_models(sensor_window, model, scaler):\n",
    "    sensor_scaled = scaler.transform(sensor_window)\n",
    "    tensor_input = torch.tensor([sensor_scaled], dtype=torch.float32)\n",
    "    \n",
    "    with torch.no_grad():\n",
    "        lstm_pred = model(tensor_input).item()\n",
    "    \n",
    "    # Classic models use only the most recent reading (last row of the window)\n",
    "    latest_reading = np.array(sensor_window[-1]).reshape(1, -1)\n",
    "    latest_scaled = scaler.transform(latest_reading)\n",
    "    \n",
    "    rf_pred = rf_model.predict(latest_scaled)[0]\n",
    "    svm_pred = svm_model.predict(latest_scaled)[0]\n",
    "    logreg_pred = logreg_model.predict(latest_scaled)[0]\n",
    "    \n",
    "    return {\n",
    "        'LSTM': lstm_pred > 0.5,\n",
    "        'Random Forest': bool(rf_pred),\n",
    "        'SVM': bool(svm_pred),\n",
    "        'Logistic Regression': bool(logreg_pred)\n",
    "    }\n",
    "    \n",
    "# Simulate 50 real-time readings\n",
    "buffer = []\n",
    "for _ in range(50):\n",
    "    mock = generate_mock_data()\n",
    "    buffer.append([mock[\"accel_x\"],mock[\"accel_y\"],mock[\"accel_z\"]])\n",
    "    if len(buffer) >= 50:\n",
    "        result = predict_all_models(buffer[-50:], model, scaler)\n",
    "        print(\"Prediction:\", result)\n",
    "        time.sleep(1)"
   ]
  }
 ],
 "metadata": {
  "kernelspec": {
   "display_name": "Python 3",
   "language": "python",
   "name": "python3"
  },
  "language_info": {
   "codemirror_mode": {
    "name": "ipython",
    "version": 3
   },
   "file_extension": ".py",
   "mimetype": "text/x-python",
   "name": "python",
   "nbconvert_exporter": "python",
   "pygments_lexer": "ipython3",
   "version": "3.13.2"
  }
 },
 "nbformat": 4,
 "nbformat_minor": 2
}
